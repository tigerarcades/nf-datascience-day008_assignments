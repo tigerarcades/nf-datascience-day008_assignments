{
 "cells": [
  {
   "cell_type": "markdown",
   "metadata": {},
   "source": [
    "# Introduction To Pandas\n",
    "## The Basics Of DataFrames"
   ]
  },
  {
   "cell_type": "markdown",
   "metadata": {},
   "source": [
    "#### Importing pandas"
   ]
  },
  {
   "cell_type": "code",
   "execution_count": null,
   "metadata": {},
   "outputs": [],
   "source": [
    "import pandas as pd"
   ]
  },
  {
   "cell_type": "markdown",
   "metadata": {},
   "source": [
    "#### Reading data into a DataFrame"
   ]
  },
  {
   "cell_type": "code",
   "execution_count": null,
   "metadata": {},
   "outputs": [],
   "source": [
    "red_wine_quality = pd.read_csv(\"data/winequality-red.csv\", delimiter=';')"
   ]
  },
  {
   "cell_type": "markdown",
   "metadata": {},
   "source": [
    "#### Getting a sense of the data\n",
    "\n",
    "##### How many rows and columns are in the DataFrame?"
   ]
  },
  {
   "cell_type": "code",
   "execution_count": null,
   "metadata": {},
   "outputs": [],
   "source": [
    "red_wine_quality.shape"
   ]
  },
  {
   "cell_type": "markdown",
   "metadata": {},
   "source": [
    "- How many rows and columns are in the DataFrame?\n",
    "> The DataFrame includes `1599` rows and `12` columns."
   ]
  },
  {
   "cell_type": "code",
   "execution_count": null,
   "metadata": {},
   "outputs": [],
   "source": [
    "for col in red_wine_quality.columns:\n",
    "    print(col)"
   ]
  },
  {
   "cell_type": "markdown",
   "metadata": {},
   "source": [
    "##### What data type is in each column?\n",
    "\n",
    "| Column Name          | Data Types |\n",
    "|----------------------|------------|\n",
    "| fixed acidity        | float64    |\n",
    "| volatile acidity     | float64    |\n",
    "| citric acid          | float64    |\n",
    "| residual sugar       | float64    |\n",
    "| chlorides            | float64    |\n",
    "| free sulfur dioxide  | float64    |\n",
    "| total sulfur dioxide | float64    |\n",
    "| density              | float64    |\n",
    "| pH                   | float64    |\n",
    "| sulphates            | float64    |\n",
    "| alcohol              | float64    |\n",
    "| quality              | int64      |"
   ]
  },
  {
   "cell_type": "markdown",
   "metadata": {},
   "source": [
    "##### Are all of the variables continuous, or are any categorical?\n",
    "> All of the variables are contiuous."
   ]
  },
  {
   "cell_type": "markdown",
   "metadata": {},
   "source": [
    "##### How many non-null values are in each column?"
   ]
  },
  {
   "cell_type": "code",
   "execution_count": null,
   "metadata": {},
   "outputs": [],
   "source": [
    "red_wine_quality.isna().sum()"
   ]
  },
  {
   "cell_type": "markdown",
   "metadata": {},
   "source": [
    "##### What are the min, mean, max, median for all numeric columns?"
   ]
  },
  {
   "cell_type": "code",
   "execution_count": null,
   "metadata": {},
   "outputs": [],
   "source": [
    "red_wine_quality.describe()"
   ]
  },
  {
   "cell_type": "code",
   "execution_count": null,
   "metadata": {
    "scrolled": true
   },
   "outputs": [],
   "source": [
    "red_wine_quality.info()"
   ]
  },
  {
   "cell_type": "markdown",
   "metadata": {},
   "source": [
    "## Practice with Grabbing Data"
   ]
  },
  {
   "cell_type": "markdown",
   "metadata": {},
   "source": [
    "##### Grab the first 10 rows of the `chlorides` column. "
   ]
  },
  {
   "cell_type": "code",
   "execution_count": null,
   "metadata": {},
   "outputs": [],
   "source": [
    "red_wine_quality[['chlorides']][0:10]"
   ]
  },
  {
   "cell_type": "markdown",
   "metadata": {},
   "source": [
    "##### Grab the last 10 rows of the `chlorides` column. "
   ]
  },
  {
   "cell_type": "code",
   "execution_count": null,
   "metadata": {},
   "outputs": [],
   "source": [
    "red_wine_quality[['chlorides']][-10:]"
   ]
  },
  {
   "cell_type": "markdown",
   "metadata": {},
   "source": [
    "##### Grab indices 264-282 of the `chlorides` **and** `density` columns. "
   ]
  },
  {
   "cell_type": "code",
   "execution_count": null,
   "metadata": {},
   "outputs": [],
   "source": [
    "red_wine_quality[['chlorides', 'density']][264:282]"
   ]
  },
  {
   "cell_type": "markdown",
   "metadata": {},
   "source": [
    "##### Grab all rows where the `chlorides` value is less than 0.10."
   ]
  },
  {
   "cell_type": "code",
   "execution_count": null,
   "metadata": {},
   "outputs": [],
   "source": [
    "is_lower = red_wine_quality['chlorides'] < .1\n",
    "filtered = red_wine_quality[is_lower]\n",
    "filtered[['chlorides']]"
   ]
  },
  {
   "cell_type": "markdown",
   "metadata": {},
   "source": [
    "##### Now grab all the rows where the `chlorides` value is greater than the column's mean (try **not** to use a hard-coded value for the mean, but instead a method)."
   ]
  },
  {
   "cell_type": "code",
   "execution_count": null,
   "metadata": {},
   "outputs": [],
   "source": [
    "red_wine_quality['chlorides'].mean()"
   ]
  },
  {
   "cell_type": "code",
   "execution_count": null,
   "metadata": {},
   "outputs": [],
   "source": [
    "def row_value_is_greater_than(df, column_name, value):\n",
    "    condition = df[column_name] > value\n",
    "    filtered = df[condition]\n",
    "    return filtered[[column_name]]"
   ]
  },
  {
   "cell_type": "code",
   "execution_count": null,
   "metadata": {},
   "outputs": [],
   "source": [
    "def is_bigger_than_mean(df, column_name):\n",
    "    return row_value_is_greater_than(df, column_name, df[column_name].mean())"
   ]
  },
  {
   "cell_type": "code",
   "execution_count": null,
   "metadata": {},
   "outputs": [],
   "source": [
    "is_bigger_as_mean(red_wine_quality, 'chlorides')"
   ]
  },
  {
   "cell_type": "markdown",
   "metadata": {},
   "source": [
    "##### Grab all those rows where the `pH` is greater than 3.0 and less than 3.5."
   ]
  },
  {
   "cell_type": "code",
   "execution_count": null,
   "metadata": {},
   "outputs": [],
   "source": [
    "column_name = 'pH'\n",
    "left_value = 3.0\n",
    "right_value = 3.5\n",
    "\n",
    "red_wine_quality['pH'].between(3, 3.5, inclusive=True)\n",
    "red_wine_quality"
   ]
  },
  {
   "cell_type": "code",
   "execution_count": null,
   "metadata": {},
   "outputs": [],
   "source": [
    "column_name = 'pH'\n",
    "left_value = 3.0\n",
    "right_value = 3.5\n",
    "\n",
    "is_greater_than = 3.0 < red_wine_quality['pH']\n",
    "filtered = red_wine_quality[is_greater_than]\n",
    "is_less_than = red_wine_quality['pH'] < 3.5\n",
    "filtered = red_wine_quality[is_less_than]\n",
    "filtered"
   ]
  },
  {
   "cell_type": "markdown",
   "metadata": {},
   "source": [
    "##### Further filter the results from 6 to grab only those rows that have a `residual sugar` less than 2.0. "
   ]
  },
  {
   "cell_type": "code",
   "execution_count": null,
   "metadata": {},
   "outputs": [],
   "source": [
    "has_less_sugar = filtered['residual sugar'] < 2.0\n",
    "filtered = filtered[has_less_sugar]\n",
    "filtered"
   ]
  },
  {
   "cell_type": "markdown",
   "metadata": {},
   "source": [
    "##### Get the average amount of `chlorides` for each `quality` value."
   ]
  },
  {
   "cell_type": "code",
   "execution_count": null,
   "metadata": {},
   "outputs": [],
   "source": [
    "red_wine_quality.groupby('quality')['chlorides'].mean()"
   ]
  },
  {
   "cell_type": "markdown",
   "metadata": {},
   "source": [
    "##### For observations with a `pH` greater than 3.0 and less than 4.0, find the average alcohol value by `pH`"
   ]
  },
  {
   "cell_type": "code",
   "execution_count": null,
   "metadata": {},
   "outputs": [],
   "source": [
    "is_greater_than = 3.0 <= red_wine_quality['pH']\n",
    "is_smaller_than = red_wine_quality['pH'] < 4.0\n",
    "filtered = red_wine_quality[is_greater_than]\n",
    "filtered = red_wine_quality[is_smaller_than]\n",
    "filtered['alcohol'].mean()"
   ]
  },
  {
   "cell_type": "markdown",
   "metadata": {},
   "source": [
    "##### For observations with an `alcohol` value between 9.25 and 9.5, find the highest amount of `residual sugar`."
   ]
  },
  {
   "cell_type": "code",
   "execution_count": null,
   "metadata": {},
   "outputs": [],
   "source": [
    "def is_in_range(df, column_name, low, high):\n",
    "    is_greater_than = low <= df[column_name]\n",
    "    is_smaller_than = df[column_name] < high\n",
    "    filtered = df[is_greater_than]\n",
    "    filtered = df[is_smaller_than]\n",
    "    return filtered"
   ]
  },
  {
   "cell_type": "code",
   "execution_count": null,
   "metadata": {},
   "outputs": [],
   "source": [
    "is_in_range(red_wine_quality, 'alcohol', 9.25, 9.5)['residual sugar'].max()"
   ]
  },
  {
   "cell_type": "markdown",
   "metadata": {},
   "source": [
    "##### Create a new column, called `total_acidity`, that is the sum of `fixed acidity` and `volatile acidity`."
   ]
  },
  {
   "cell_type": "code",
   "execution_count": null,
   "metadata": {},
   "outputs": [],
   "source": [
    "df = red_wine_quality\n",
    "df['total_acidity'] = df['fixed acidity'] + df['volatile acidity']"
   ]
  },
  {
   "cell_type": "code",
   "execution_count": null,
   "metadata": {},
   "outputs": [],
   "source": [
    "df"
   ]
  },
  {
   "cell_type": "markdown",
   "metadata": {},
   "source": [
    "##### Find the average `total_acidity` for each of the `quality` values"
   ]
  },
  {
   "cell_type": "code",
   "execution_count": null,
   "metadata": {},
   "outputs": [],
   "source": [
    "red_wine_quality.groupby('quality')['total_acidity'].mean()"
   ]
  },
  {
   "cell_type": "markdown",
   "metadata": {},
   "source": [
    "##### Find the top 5 `density` values."
   ]
  },
  {
   "cell_type": "code",
   "execution_count": null,
   "metadata": {},
   "outputs": [],
   "source": [
    "red_wine_quality.sort_values('density', ascending=False)['density'].head()"
   ]
  },
  {
   "cell_type": "code",
   "execution_count": 136,
   "metadata": {},
   "outputs": [
    {
     "data": {
      "text/plain": [
       "170     0.33\n",
       "1369    0.37\n",
       "1287    0.37\n",
       "1347    0.39\n",
       "1348    0.39\n",
       "65      0.39\n",
       "837     0.39\n",
       "64      0.39\n",
       "836     0.39\n",
       "1237    0.40\n",
       "Name: sulphates, dtype: float64"
      ]
     },
     "execution_count": 136,
     "metadata": {},
     "output_type": "execute_result"
    }
   ],
   "source": [
    "red_wine_quality.sort_values('sulphates')['sulphates'].head(10)"
   ]
  },
  {
   "cell_type": "code",
   "execution_count": null,
   "metadata": {},
   "outputs": [],
   "source": []
  }
 ],
 "metadata": {
  "kernelspec": {
   "display_name": "Python [conda env:nf] *",
   "language": "python",
   "name": "conda-env-nf-py"
  },
  "language_info": {
   "codemirror_mode": {
    "name": "ipython",
    "version": 3
   },
   "file_extension": ".py",
   "mimetype": "text/x-python",
   "name": "python",
   "nbconvert_exporter": "python",
   "pygments_lexer": "ipython3",
   "version": "3.6.6"
  }
 },
 "nbformat": 4,
 "nbformat_minor": 2
}
